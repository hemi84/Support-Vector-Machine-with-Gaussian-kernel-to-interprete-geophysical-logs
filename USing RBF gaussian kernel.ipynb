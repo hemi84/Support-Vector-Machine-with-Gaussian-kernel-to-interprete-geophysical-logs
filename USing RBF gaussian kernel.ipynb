{
 "cells": [
  {
   "cell_type": "markdown",
   "metadata": {},
   "source": [
    "# Machine Learning using Support Vector Machine with Gaussian Radial Basis Function-  Himanshu Bhardwaj"
   ]
  },
  {
   "cell_type": "markdown",
   "metadata": {},
   "source": [
    "Photo electric formation factor is very effective in identifying the lithologies. Lithologies has a range of values of PEF. Classification based on PEF can be done just adding one featue more, making dataset 2D and the features becomes linearly separable. Adding features can be done using Gaussian Radial basis function which is a bell shaped function. given by below equation."
   ]
  },
  {
   "cell_type": "markdown",
   "metadata": {},
   "source": [
    "$$\\phi\\gamma(x,l) = exp(-\\gamma||x-l||^2)$$"
   ]
  },
  {
   "cell_type": "markdown",
   "metadata": {},
   "source": [
    "This function adds many dimension in the dataset, transforming the training dataset linearly separable. The geophysical logs classified by this method and the results are shown below."
   ]
  },
  {
   "cell_type": "code",
   "execution_count": 1,
   "metadata": {},
   "outputs": [],
   "source": [
    "import pandas as pd\n",
    "import numpy as np\n",
    "import matplotlib.pyplot as plt"
   ]
  },
  {
   "cell_type": "code",
   "execution_count": 2,
   "metadata": {},
   "outputs": [
    {
     "data": {
      "text/html": [
       "<div>\n",
       "<style scoped>\n",
       "    .dataframe tbody tr th:only-of-type {\n",
       "        vertical-align: middle;\n",
       "    }\n",
       "\n",
       "    .dataframe tbody tr th {\n",
       "        vertical-align: top;\n",
       "    }\n",
       "\n",
       "    .dataframe thead th {\n",
       "        text-align: right;\n",
       "    }\n",
       "</style>\n",
       "<table border=\"1\" class=\"dataframe\">\n",
       "  <thead>\n",
       "    <tr style=\"text-align: right;\">\n",
       "      <th></th>\n",
       "      <th>GR</th>\n",
       "      <th>NPHI</th>\n",
       "      <th>DPHI</th>\n",
       "      <th>PEF</th>\n",
       "      <th>PICK</th>\n",
       "      <th>TRUE</th>\n",
       "    </tr>\n",
       "  </thead>\n",
       "  <tbody>\n",
       "    <tr>\n",
       "      <th>0</th>\n",
       "      <td>18.4445</td>\n",
       "      <td>0.1263</td>\n",
       "      <td>0.0973</td>\n",
       "      <td>2.5341</td>\n",
       "      <td>7</td>\n",
       "      <td>7</td>\n",
       "    </tr>\n",
       "    <tr>\n",
       "      <th>1</th>\n",
       "      <td>18.4814</td>\n",
       "      <td>0.1138</td>\n",
       "      <td>0.0882</td>\n",
       "      <td>2.5683</td>\n",
       "      <td>7</td>\n",
       "      <td>7</td>\n",
       "    </tr>\n",
       "    <tr>\n",
       "      <th>2</th>\n",
       "      <td>17.9632</td>\n",
       "      <td>0.1100</td>\n",
       "      <td>0.0890</td>\n",
       "      <td>2.5396</td>\n",
       "      <td>7</td>\n",
       "      <td>7</td>\n",
       "    </tr>\n",
       "    <tr>\n",
       "      <th>3</th>\n",
       "      <td>16.0150</td>\n",
       "      <td>0.1213</td>\n",
       "      <td>0.1170</td>\n",
       "      <td>2.3682</td>\n",
       "      <td>7</td>\n",
       "      <td>7</td>\n",
       "    </tr>\n",
       "    <tr>\n",
       "      <th>4</th>\n",
       "      <td>14.6361</td>\n",
       "      <td>0.1112</td>\n",
       "      <td>0.1520</td>\n",
       "      <td>2.1106</td>\n",
       "      <td>10</td>\n",
       "      <td>10</td>\n",
       "    </tr>\n",
       "  </tbody>\n",
       "</table>\n",
       "</div>"
      ],
      "text/plain": [
       "        GR    NPHI    DPHI     PEF  PICK  TRUE\n",
       "0  18.4445  0.1263  0.0973  2.5341     7     7\n",
       "1  18.4814  0.1138  0.0882  2.5683     7     7\n",
       "2  17.9632  0.1100  0.0890  2.5396     7     7\n",
       "3  16.0150  0.1213  0.1170  2.3682     7     7\n",
       "4  14.6361  0.1112  0.1520  2.1106    10    10"
      ]
     },
     "execution_count": 2,
     "metadata": {},
     "output_type": "execute_result"
    }
   ],
   "source": [
    "X = pd.read_csv('DataSet.csv')\n",
    "X.head()"
   ]
  },
  {
   "cell_type": "code",
   "execution_count": 3,
   "metadata": {},
   "outputs": [
    {
     "data": {
      "text/html": [
       "<div>\n",
       "<style scoped>\n",
       "    .dataframe tbody tr th:only-of-type {\n",
       "        vertical-align: middle;\n",
       "    }\n",
       "\n",
       "    .dataframe tbody tr th {\n",
       "        vertical-align: top;\n",
       "    }\n",
       "\n",
       "    .dataframe thead th {\n",
       "        text-align: right;\n",
       "    }\n",
       "</style>\n",
       "<table border=\"1\" class=\"dataframe\">\n",
       "  <thead>\n",
       "    <tr style=\"text-align: right;\">\n",
       "      <th></th>\n",
       "      <th>TRUE</th>\n",
       "      <th>Lithology</th>\n",
       "    </tr>\n",
       "  </thead>\n",
       "  <tbody>\n",
       "    <tr>\n",
       "      <th>0</th>\n",
       "      <td>2</td>\n",
       "      <td>Halite</td>\n",
       "    </tr>\n",
       "    <tr>\n",
       "      <th>1</th>\n",
       "      <td>3</td>\n",
       "      <td>Gypsum</td>\n",
       "    </tr>\n",
       "    <tr>\n",
       "      <th>2</th>\n",
       "      <td>4</td>\n",
       "      <td>Dolomite</td>\n",
       "    </tr>\n",
       "    <tr>\n",
       "      <th>3</th>\n",
       "      <td>5</td>\n",
       "      <td>Dolomitic Limestone</td>\n",
       "    </tr>\n",
       "    <tr>\n",
       "      <th>4</th>\n",
       "      <td>6</td>\n",
       "      <td>Cherty Dolomitic Limestone</td>\n",
       "    </tr>\n",
       "    <tr>\n",
       "      <th>5</th>\n",
       "      <td>7</td>\n",
       "      <td>Cherty Dolomite</td>\n",
       "    </tr>\n",
       "    <tr>\n",
       "      <th>6</th>\n",
       "      <td>8</td>\n",
       "      <td>Limestone</td>\n",
       "    </tr>\n",
       "    <tr>\n",
       "      <th>7</th>\n",
       "      <td>9</td>\n",
       "      <td>Cherty Limestone</td>\n",
       "    </tr>\n",
       "    <tr>\n",
       "      <th>8</th>\n",
       "      <td>10</td>\n",
       "      <td>Chert</td>\n",
       "    </tr>\n",
       "    <tr>\n",
       "      <th>9</th>\n",
       "      <td>11</td>\n",
       "      <td>Shale</td>\n",
       "    </tr>\n",
       "    <tr>\n",
       "      <th>10</th>\n",
       "      <td>12</td>\n",
       "      <td>Sand Stone</td>\n",
       "    </tr>\n",
       "    <tr>\n",
       "      <th>11</th>\n",
       "      <td>13</td>\n",
       "      <td>Ironstone</td>\n",
       "    </tr>\n",
       "    <tr>\n",
       "      <th>12</th>\n",
       "      <td>14</td>\n",
       "      <td>Coal</td>\n",
       "    </tr>\n",
       "  </tbody>\n",
       "</table>\n",
       "</div>"
      ],
      "text/plain": [
       "    TRUE                   Lithology\n",
       "0      2                      Halite\n",
       "1      3                      Gypsum\n",
       "2      4                    Dolomite\n",
       "3      5         Dolomitic Limestone\n",
       "4      6  Cherty Dolomitic Limestone\n",
       "5      7             Cherty Dolomite\n",
       "6      8                   Limestone\n",
       "7      9            Cherty Limestone\n",
       "8     10                       Chert\n",
       "9     11                       Shale\n",
       "10    12                  Sand Stone\n",
       "11    13                   Ironstone\n",
       "12    14                        Coal"
      ]
     },
     "execution_count": 3,
     "metadata": {},
     "output_type": "execute_result"
    }
   ],
   "source": [
    "Lith = pd.read_csv('Lithology.csv')\n",
    "Lith.columns = ['TRUE', 'Lithology']\n",
    "Lith"
   ]
  },
  {
   "cell_type": "code",
   "execution_count": 6,
   "metadata": {},
   "outputs": [
    {
     "data": {
      "text/html": [
       "<div>\n",
       "<style scoped>\n",
       "    .dataframe tbody tr th:only-of-type {\n",
       "        vertical-align: middle;\n",
       "    }\n",
       "\n",
       "    .dataframe tbody tr th {\n",
       "        vertical-align: top;\n",
       "    }\n",
       "\n",
       "    .dataframe thead th {\n",
       "        text-align: right;\n",
       "    }\n",
       "</style>\n",
       "<table border=\"1\" class=\"dataframe\">\n",
       "  <thead>\n",
       "    <tr style=\"text-align: right;\">\n",
       "      <th></th>\n",
       "      <th>GR</th>\n",
       "      <th>NPHI</th>\n",
       "      <th>DPHI</th>\n",
       "      <th>PEF</th>\n",
       "      <th>PICK</th>\n",
       "      <th>TRUE</th>\n",
       "      <th>Lithology</th>\n",
       "    </tr>\n",
       "  </thead>\n",
       "  <tbody>\n",
       "    <tr>\n",
       "      <th>0</th>\n",
       "      <td>18.4445</td>\n",
       "      <td>0.1263</td>\n",
       "      <td>0.0973</td>\n",
       "      <td>2.5341</td>\n",
       "      <td>7</td>\n",
       "      <td>7</td>\n",
       "      <td>Cherty Dolomite</td>\n",
       "    </tr>\n",
       "    <tr>\n",
       "      <th>1</th>\n",
       "      <td>18.4814</td>\n",
       "      <td>0.1138</td>\n",
       "      <td>0.0882</td>\n",
       "      <td>2.5683</td>\n",
       "      <td>7</td>\n",
       "      <td>7</td>\n",
       "      <td>Cherty Dolomite</td>\n",
       "    </tr>\n",
       "    <tr>\n",
       "      <th>2</th>\n",
       "      <td>17.9632</td>\n",
       "      <td>0.1100</td>\n",
       "      <td>0.0890</td>\n",
       "      <td>2.5396</td>\n",
       "      <td>7</td>\n",
       "      <td>7</td>\n",
       "      <td>Cherty Dolomite</td>\n",
       "    </tr>\n",
       "    <tr>\n",
       "      <th>3</th>\n",
       "      <td>16.0150</td>\n",
       "      <td>0.1213</td>\n",
       "      <td>0.1170</td>\n",
       "      <td>2.3682</td>\n",
       "      <td>7</td>\n",
       "      <td>7</td>\n",
       "      <td>Cherty Dolomite</td>\n",
       "    </tr>\n",
       "    <tr>\n",
       "      <th>4</th>\n",
       "      <td>17.4286</td>\n",
       "      <td>0.0877</td>\n",
       "      <td>0.0846</td>\n",
       "      <td>2.3734</td>\n",
       "      <td>7</td>\n",
       "      <td>7</td>\n",
       "      <td>Cherty Dolomite</td>\n",
       "    </tr>\n",
       "    <tr>\n",
       "      <th>...</th>\n",
       "      <td>...</td>\n",
       "      <td>...</td>\n",
       "      <td>...</td>\n",
       "      <td>...</td>\n",
       "      <td>...</td>\n",
       "      <td>...</td>\n",
       "      <td>...</td>\n",
       "    </tr>\n",
       "    <tr>\n",
       "      <th>4583</th>\n",
       "      <td>76.6608</td>\n",
       "      <td>0.2786</td>\n",
       "      <td>-0.1766</td>\n",
       "      <td>7.2234</td>\n",
       "      <td>13</td>\n",
       "      <td>13</td>\n",
       "      <td>Ironstone</td>\n",
       "    </tr>\n",
       "    <tr>\n",
       "      <th>4584</th>\n",
       "      <td>74.0910</td>\n",
       "      <td>0.2434</td>\n",
       "      <td>-0.3404</td>\n",
       "      <td>9.8867</td>\n",
       "      <td>13</td>\n",
       "      <td>13</td>\n",
       "      <td>Ironstone</td>\n",
       "    </tr>\n",
       "    <tr>\n",
       "      <th>4585</th>\n",
       "      <td>74.3129</td>\n",
       "      <td>0.2507</td>\n",
       "      <td>-0.3196</td>\n",
       "      <td>9.5217</td>\n",
       "      <td>13</td>\n",
       "      <td>13</td>\n",
       "      <td>Ironstone</td>\n",
       "    </tr>\n",
       "    <tr>\n",
       "      <th>4586</th>\n",
       "      <td>75.2727</td>\n",
       "      <td>0.2559</td>\n",
       "      <td>-0.2908</td>\n",
       "      <td>9.0778</td>\n",
       "      <td>13</td>\n",
       "      <td>13</td>\n",
       "      <td>Ironstone</td>\n",
       "    </tr>\n",
       "    <tr>\n",
       "      <th>4587</th>\n",
       "      <td>75.4389</td>\n",
       "      <td>0.2714</td>\n",
       "      <td>-0.1917</td>\n",
       "      <td>7.5577</td>\n",
       "      <td>13</td>\n",
       "      <td>13</td>\n",
       "      <td>Ironstone</td>\n",
       "    </tr>\n",
       "  </tbody>\n",
       "</table>\n",
       "<p>4588 rows × 7 columns</p>\n",
       "</div>"
      ],
      "text/plain": [
       "           GR    NPHI    DPHI     PEF  PICK  TRUE        Lithology\n",
       "0     18.4445  0.1263  0.0973  2.5341     7     7  Cherty Dolomite\n",
       "1     18.4814  0.1138  0.0882  2.5683     7     7  Cherty Dolomite\n",
       "2     17.9632  0.1100  0.0890  2.5396     7     7  Cherty Dolomite\n",
       "3     16.0150  0.1213  0.1170  2.3682     7     7  Cherty Dolomite\n",
       "4     17.4286  0.0877  0.0846  2.3734     7     7  Cherty Dolomite\n",
       "...       ...     ...     ...     ...   ...   ...              ...\n",
       "4583  76.6608  0.2786 -0.1766  7.2234    13    13        Ironstone\n",
       "4584  74.0910  0.2434 -0.3404  9.8867    13    13        Ironstone\n",
       "4585  74.3129  0.2507 -0.3196  9.5217    13    13        Ironstone\n",
       "4586  75.2727  0.2559 -0.2908  9.0778    13    13        Ironstone\n",
       "4587  75.4389  0.2714 -0.1917  7.5577    13    13        Ironstone\n",
       "\n",
       "[4588 rows x 7 columns]"
      ]
     },
     "execution_count": 6,
     "metadata": {},
     "output_type": "execute_result"
    }
   ],
   "source": [
    "X = X.merge(Lith, on='TRUE')\n",
    "X"
   ]
  },
  {
   "cell_type": "code",
   "execution_count": 7,
   "metadata": {},
   "outputs": [],
   "source": [
    "from sklearn.model_selection import StratifiedShuffleSplit"
   ]
  },
  {
   "cell_type": "code",
   "execution_count": 8,
   "metadata": {},
   "outputs": [],
   "source": [
    "pp = StratifiedShuffleSplit(n_splits=1, test_size=0.3, random_state=52)"
   ]
  },
  {
   "cell_type": "code",
   "execution_count": 9,
   "metadata": {},
   "outputs": [],
   "source": [
    "X_train = []\n",
    "X_test = []\n",
    "for train_index, test_index in pp.split(X, X['TRUE']):\n",
    "    X_train.append(X.loc[train_index])\n",
    "    X_test.append(X.loc[test_index])"
   ]
  },
  {
   "cell_type": "code",
   "execution_count": 11,
   "metadata": {},
   "outputs": [],
   "source": [
    "train = X_train[-1]\n",
    "test = X_test[-1]"
   ]
  },
  {
   "cell_type": "code",
   "execution_count": 14,
   "metadata": {},
   "outputs": [],
   "source": [
    "train_X = train[['GR', 'PEF']]\n",
    "train_Y = train['TRUE']\n",
    "test_X = test[['GR', 'PEF']]\n",
    "test_Y  = test['TRUE']"
   ]
  },
  {
   "cell_type": "code",
   "execution_count": 16,
   "metadata": {},
   "outputs": [],
   "source": [
    "from sklearn.pipeline import Pipeline\n",
    "from sklearn.preprocessing import StandardScaler\n",
    "from sklearn.svm import SVC"
   ]
  },
  {
   "cell_type": "code",
   "execution_count": 26,
   "metadata": {},
   "outputs": [],
   "source": [
    "rbf_kernel_SVC = Pipeline((\n",
    "    (\"scaler\", StandardScaler()),\n",
    "                         (\"svm_clf\", SVC(kernel=\"rbf\", gamma=5, C=1000))))"
   ]
  },
  {
   "cell_type": "code",
   "execution_count": 27,
   "metadata": {},
   "outputs": [
    {
     "data": {
      "text/plain": [
       "Pipeline(memory=None,\n",
       "         steps=[('scaler',\n",
       "                 StandardScaler(copy=True, with_mean=True, with_std=True)),\n",
       "                ('svm_clf',\n",
       "                 SVC(C=1000, break_ties=False, cache_size=200,\n",
       "                     class_weight=None, coef0=0.0,\n",
       "                     decision_function_shape='ovr', degree=3, gamma=5,\n",
       "                     kernel='rbf', max_iter=-1, probability=False,\n",
       "                     random_state=None, shrinking=True, tol=0.001,\n",
       "                     verbose=False))],\n",
       "         verbose=False)"
      ]
     },
     "execution_count": 27,
     "metadata": {},
     "output_type": "execute_result"
    }
   ],
   "source": [
    "rbf_kernel_SVC.fit(train_X, train_Y)"
   ]
  },
  {
   "cell_type": "code",
   "execution_count": 28,
   "metadata": {},
   "outputs": [],
   "source": [
    "pred_test = rbf_kernel_SVC.predict(test_X)"
   ]
  },
  {
   "cell_type": "code",
   "execution_count": 29,
   "metadata": {},
   "outputs": [
    {
     "data": {
      "text/plain": [
       "array([ 5,  5, 11, ...,  6, 11, 12], dtype=int64)"
      ]
     },
     "execution_count": 29,
     "metadata": {},
     "output_type": "execute_result"
    }
   ],
   "source": [
    "pred_test"
   ]
  },
  {
   "cell_type": "markdown",
   "metadata": {},
   "source": [
    "**Confusion Matrix showing classification error**"
   ]
  },
  {
   "cell_type": "code",
   "execution_count": 30,
   "metadata": {},
   "outputs": [
    {
     "data": {
      "text/plain": [
       "<sklearn.metrics._plot.confusion_matrix.ConfusionMatrixDisplay at 0x1487d8540c8>"
      ]
     },
     "execution_count": 30,
     "metadata": {},
     "output_type": "execute_result"
    },
    {
     "data": {
      "image/png": "[encoded data removed]",
      "text/plain": [
       "<Figure size 432x288 with 2 Axes>"
      ]
     },
     "metadata": {
      "needs_background": "light"
     },
     "output_type": "display_data"
    }
   ],
   "source": [
    "from sklearn.metrics import plot_confusion_matrix\n",
    "plot_confusion_matrix(rbf_kernel_SVC, test_X, test['TRUE'])"
   ]
  },
  {
   "cell_type": "markdown",
   "metadata": {},
   "source": [
    "**Accuracy of the result**"
   ]
  },
  {
   "cell_type": "code",
   "execution_count": 31,
   "metadata": {},
   "outputs": [
    {
     "name": "stdout",
     "output_type": "stream",
     "text": [
      "0.9687726942628904\n"
     ]
    }
   ],
   "source": [
    "from sklearn.metrics import accuracy_score\n",
    "print(accuracy_score(test['TRUE'], pred_test))"
   ]
  },
  {
   "cell_type": "markdown",
   "metadata": {},
   "source": [
    "**Final result**"
   ]
  },
  {
   "cell_type": "markdown",
   "metadata": {},
   "source": [
    "![result_classification](result_classification.png)"
   ]
  },
  {
   "cell_type": "markdown",
   "metadata": {},
   "source": [
    "![index of lithology](index_lithology.png)"
   ]
  }
 ],
 "metadata": {
  "kernelspec": {
   "display_name": "Python 3",
   "language": "python",
   "name": "python3"
  },
  "language_info": {
   "codemirror_mode": {
    "name": "ipython",
    "version": 3
   },
   "file_extension": ".py",
   "mimetype": "text/x-python",
   "name": "python",
   "nbconvert_exporter": "python",
   "pygments_lexer": "ipython3",
   "version": "3.7.4"
  }
 },
 "nbformat": 4,
 "nbformat_minor": 2
}
